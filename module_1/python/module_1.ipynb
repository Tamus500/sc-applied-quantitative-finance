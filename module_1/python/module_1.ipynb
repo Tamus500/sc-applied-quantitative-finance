{
 "cells": [
  {
   "cell_type": "markdown",
   "source": [
    "# Financial Time Series\n",
    "Module 1 - Jan 29, 2020"
   ],
   "metadata": {
    "collapsed": false,
    "pycharm": {
     "name": "#%% md\n"
    }
   }
  },
  {
   "cell_type": "code",
   "execution_count": 28,
   "outputs": [],
   "source": [
    "# Import Packages\n",
    "\n",
    "import numpy as np\n",
    "import pandas as pd\n",
    "import matplotlib.pyplot as plt\n",
    "%matplotlib inline\n",
    "\n",
    "import yfinance as yf\n",
    "\n",
    "# https://pypi.org/project/yfinance/"
   ],
   "metadata": {
    "collapsed": false,
    "pycharm": {
     "name": "#%%\n"
    }
   }
  },
  {
   "cell_type": "markdown",
   "source": [
    "### Verify Yahoo Finance is Working"
   ],
   "metadata": {
    "collapsed": false,
    "pycharm": {
     "name": "#%% md\n"
    }
   }
  },
  {
   "cell_type": "code",
   "execution_count": 30,
   "outputs": [
    {
     "name": "stdout",
     "output_type": "stream",
     "text": [
      "[*********************100%***********************]  1 of 1 completed\n",
      "                   Open         High          Low        Close    Adj Close  \\\n",
      "Date                                                                          \n",
      "2021-01-04  3270.000000  3272.000000  3144.020020  3186.629883  3186.629883   \n",
      "2021-01-05  3166.010010  3223.379883  3165.060059  3218.510010  3218.510010   \n",
      "2021-01-06  3146.479980  3197.510010  3131.159912  3138.379883  3138.379883   \n",
      "2021-01-07  3157.000000  3208.540039  3155.000000  3162.159912  3162.159912   \n",
      "2021-01-08  3180.000000  3190.639893  3142.199951  3182.699951  3182.699951   \n",
      "2021-01-11  3148.010010  3156.379883  3110.000000  3114.209961  3114.209961   \n",
      "2021-01-12  3120.000000  3142.139893  3086.000000  3120.830078  3120.830078   \n",
      "2021-01-13  3128.439941  3189.949951  3122.080078  3165.889893  3165.889893   \n",
      "2021-01-14  3167.520020  3178.000000  3120.590088  3127.469971  3127.469971   \n",
      "2021-01-15  3123.020020  3142.550049  3095.169922  3104.250000  3104.250000   \n",
      "2021-01-19  3107.000000  3145.000000  3096.000000  3120.760010  3120.760010   \n",
      "2021-01-20  3181.989990  3279.800049  3175.000000  3263.379883  3263.379883   \n",
      "2021-01-21  3293.000000  3348.550049  3289.570068  3306.989990  3306.989990   \n",
      "2021-01-22  3304.310059  3321.909912  3283.159912  3292.229980  3292.229980   \n",
      "2021-01-25  3328.500000  3363.889893  3243.149902  3294.000000  3294.000000   \n",
      "2021-01-26  3296.360107  3338.000000  3282.870117  3326.129883  3326.129883   \n",
      "2021-01-27  3341.489990  3346.520020  3207.080078  3232.580078  3232.580078   \n",
      "2021-01-28  3235.040039  3301.679932  3228.689941  3237.620117  3237.620117   \n",
      "2021-01-29  3230.000000  3236.989990  3184.550049  3206.199951  3206.199951   \n",
      "\n",
      "             Volume  \n",
      "Date                 \n",
      "2021-01-04  4411400  \n",
      "2021-01-05  2655500  \n",
      "2021-01-06  4394800  \n",
      "2021-01-07  3514500  \n",
      "2021-01-08  3534300  \n",
      "2021-01-11  3683400  \n",
      "2021-01-12  3514600  \n",
      "2021-01-13  3321200  \n",
      "2021-01-14  3070900  \n",
      "2021-01-15  4214200  \n",
      "2021-01-19  3305100  \n",
      "2021-01-20  5309800  \n",
      "2021-01-21  4945100  \n",
      "2021-01-22  2816300  \n",
      "2021-01-25  3749800  \n",
      "2021-01-26  2955200  \n",
      "2021-01-27  4660200  \n",
      "2021-01-28  3149200  \n",
      "2021-01-29  4285600  \n"
     ]
    },
    {
     "data": {
      "text/plain": "<Figure size 432x288 with 1 Axes>",
      "image/png": "[encoded data removed]"
     },
     "metadata": {
      "needs_background": "light"
     },
     "output_type": "display_data"
    }
   ],
   "source": [
    "data = yf.download('AMZN','2021-01-01','2021-02-01')\n",
    "print(data)\n",
    "data['Adj Close'].plot()\n",
    "plt.show()"
   ],
   "metadata": {
    "collapsed": false,
    "pycharm": {
     "name": "#%%\n"
    }
   }
  },
  {
   "cell_type": "markdown",
   "source": [
    "# Recreation of Professor Code - NOT WORKING"
   ],
   "metadata": {
    "collapsed": false,
    "pycharm": {
     "name": "#%% md\n"
    }
   }
  },
  {
   "cell_type": "markdown",
   "source": [
    "### Non Stationarity Tests\n",
    "#### Data splitting to test compatability of mean and variance"
   ],
   "metadata": {
    "collapsed": false
   }
  },
  {
   "cell_type": "code",
   "execution_count": 29,
   "outputs": [
    {
     "ename": "NameError",
     "evalue": "name 'prices_close' is not defined",
     "output_type": "error",
     "traceback": [
      "\u001B[0;31m---------------------------------------------------------------------------\u001B[0m",
      "\u001B[0;31mNameError\u001B[0m                                 Traceback (most recent call last)",
      "\u001B[0;32m<ipython-input-29-9781460b7a14>\u001B[0m in \u001B[0;36m<module>\u001B[0;34m\u001B[0m\n\u001B[1;32m      1\u001B[0m \u001B[0;31m# Non Stationarity of Stock Prices\u001B[0m\u001B[0;34m\u001B[0m\u001B[0;34m\u001B[0m\u001B[0;34m\u001B[0m\u001B[0m\n\u001B[0;32m----> 2\u001B[0;31m \u001B[0mAmazon\u001B[0m \u001B[0;34m=\u001B[0m \u001B[0mprices_close\u001B[0m\u001B[0;34m[\u001B[0m\u001B[0;34m'AMZN'\u001B[0m\u001B[0;34m]\u001B[0m\u001B[0;34m.\u001B[0m\u001B[0mvalues\u001B[0m\u001B[0;34m(\u001B[0m\u001B[0;34m)\u001B[0m\u001B[0;34m\u001B[0m\u001B[0;34m\u001B[0m\u001B[0m\n\u001B[0m\u001B[1;32m      3\u001B[0m \u001B[0msplit\u001B[0m \u001B[0;34m=\u001B[0m \u001B[0mint\u001B[0m\u001B[0;34m(\u001B[0m\u001B[0mlen\u001B[0m\u001B[0;34m(\u001B[0m\u001B[0mAmazon\u001B[0m\u001B[0;34m)\u001B[0m \u001B[0;34m/\u001B[0m \u001B[0;36m2\u001B[0m\u001B[0;34m)\u001B[0m\u001B[0;34m\u001B[0m\u001B[0;34m\u001B[0m\u001B[0m\n\u001B[1;32m      4\u001B[0m \u001B[0mX1\u001B[0m\u001B[0;34m,\u001B[0m \u001B[0mX2\u001B[0m \u001B[0;34m=\u001B[0m \u001B[0mAmazon\u001B[0m\u001B[0;34m[\u001B[0m\u001B[0;36m0\u001B[0m\u001B[0;34m:\u001B[0m\u001B[0msplit\u001B[0m\u001B[0;34m]\u001B[0m\u001B[0;34m,\u001B[0m \u001B[0mAmazon\u001B[0m\u001B[0;34m[\u001B[0m\u001B[0msplit\u001B[0m\u001B[0;34m:\u001B[0m\u001B[0;34m]\u001B[0m\u001B[0;34m\u001B[0m\u001B[0;34m\u001B[0m\u001B[0m\n\u001B[1;32m      5\u001B[0m \u001B[0mmean1\u001B[0m\u001B[0;34m,\u001B[0m\u001B[0mmean2\u001B[0m \u001B[0;34m=\u001B[0m \u001B[0mX1\u001B[0m\u001B[0;34m.\u001B[0m\u001B[0mmean\u001B[0m\u001B[0;34m(\u001B[0m\u001B[0;34m)\u001B[0m\u001B[0;34m,\u001B[0m \u001B[0mX2\u001B[0m\u001B[0;34m.\u001B[0m\u001B[0mmean\u001B[0m\u001B[0;34m(\u001B[0m\u001B[0;34m)\u001B[0m\u001B[0;34m\u001B[0m\u001B[0;34m\u001B[0m\u001B[0m\n",
      "\u001B[0;31mNameError\u001B[0m: name 'prices_close' is not defined"
     ]
    }
   ],
   "source": [
    "# Non Stationarity of Stock Prices\n",
    "Amazon = prices_close['AMZN'].values()\n",
    "split = int(len(Amazon) / 2)\n",
    "X1, X2 = Amazon[0:split], Amazon[split:]\n",
    "mean1,mean2 = X1.mean(), X2.mean()\n",
    "var1, var2 = X1.var(), X2.var()\n",
    "print('mean1=%f, mean2=%f' % (mean1, mean2))\n",
    "print('variance1=%f, variance2=%f' % (var1, var2))"
   ],
   "metadata": {
    "collapsed": false,
    "pycharm": {
     "name": "#%%\n"
    }
   }
  },
  {
   "cell_type": "markdown",
   "source": [
    "### Dicky Fuller Test"
   ],
   "metadata": {
    "collapsed": false
   }
  },
  {
   "cell_type": "code",
   "execution_count": null,
   "outputs": [],
   "source": [
    "# Augment DF Test\n",
    "from statsmodels.tsa.stattools import adfuller\n",
    "result = adfuller(Amazon)\n",
    "print('ADF Statistic: %f' % result[0])\n",
    "print('p-value: %f' % result[1])\n",
    "print('Critical Values:')\n",
    "for key, value in result[4].items():\n",
    "    print('\\t%s: %.3f' % (key, value))"
   ],
   "metadata": {
    "collapsed": false,
    "pycharm": {
     "name": "#%%\n"
    }
   }
  },
  {
   "cell_type": "code",
   "execution_count": null,
   "outputs": [],
   "source": [
    "\n",
    "\n"
   ],
   "metadata": {
    "collapsed": false,
    "pycharm": {
     "name": "#%%\n"
    }
   }
  },
  {
   "cell_type": "code",
   "execution_count": null,
   "outputs": [],
   "source": [
    "\n",
    "\n"
   ],
   "metadata": {
    "collapsed": false,
    "pycharm": {
     "name": "#%%\n"
    }
   }
  }
 ],
 "metadata": {
  "kernelspec": {
   "display_name": "Python 3",
   "language": "python",
   "name": "python3"
  },
  "language_info": {
   "codemirror_mode": {
    "name": "ipython",
    "version": 2
   },
   "file_extension": ".py",
   "mimetype": "text/x-python",
   "name": "python",
   "nbconvert_exporter": "python",
   "pygments_lexer": "ipython2",
   "version": "2.7.6"
  }
 },
 "nbformat": 4,
 "nbformat_minor": 0
}